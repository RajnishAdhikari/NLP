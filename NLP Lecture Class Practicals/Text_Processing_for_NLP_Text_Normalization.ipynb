{
 "cells": [
  {
   "cell_type": "code",
   "execution_count": 8,
   "metadata": {},
   "outputs": [],
   "source": [
    "import re"
   ]
  },
  {
   "cell_type": "code",
   "execution_count": 9,
   "metadata": {},
   "outputs": [],
   "source": [
    "text = \"Hi this is rajnish adhikari and I'm data scientist and also i'm interested in Gen AI too\""
   ]
  },
  {
   "cell_type": "code",
   "execution_count": 10,
   "metadata": {},
   "outputs": [
    {
     "name": "stdout",
     "output_type": "stream",
     "text": [
      "Convert to lowercase\n",
      "Lowercase text: hi this is rajnish adhikari and i'm data scientist and also i'm interested in gen ai too\n",
      "\n"
     ]
    }
   ],
   "source": [
    "print(\"Convert to lowercase\")\n",
    "lowercase_text = text.lower()\n",
    "print(\"Lowercase text:\", lowercase_text)\n",
    "print()"
   ]
  },
  {
   "cell_type": "code",
   "execution_count": 11,
   "metadata": {},
   "outputs": [
    {
     "name": "stdout",
     "output_type": "stream",
     "text": [
      "Remove punctuation\n",
      "Text without punctuation: hi this is rajnish adhikari and im data scientist and also im interested in gen ai too\n",
      "\n"
     ]
    }
   ],
   "source": [
    "print(\"Remove punctuation\")\n",
    "cleaned_text = re.sub(r'[^\\w\\s]', '', lowercase_text)\n",
    "print(\"Text without punctuation:\", cleaned_text)\n",
    "print()"
   ]
  },
  {
   "cell_type": "code",
   "execution_count": 12,
   "metadata": {},
   "outputs": [
    {
     "name": "stdout",
     "output_type": "stream",
     "text": [
      "{\"can't\": 'cannot', \"won't\": 'will not', \"I'm\": 'I am'}\n"
     ]
    }
   ],
   "source": [
    "contractions_dict = {\n",
    "    \"can't\" : \"cannot\",\n",
    "    \"won't\" : \"will not\", \n",
    "    \"I'm\" : \"I am\",\n",
    "}\n",
    "\n",
    "print(contractions_dict)"
   ]
  },
  {
   "cell_type": "code",
   "execution_count": 13,
   "metadata": {},
   "outputs": [
    {
     "name": "stdout",
     "output_type": "stream",
     "text": [
      "Text with expanded contractions: hi this is rajnish adhikari and im data scientist and also im interested in gen ai too\n"
     ]
    }
   ],
   "source": [
    "words = cleaned_text.split()\n",
    "expanded_words = [contractions_dict[word] if word in contractions_dict else word for word in words]\n",
    "expanded_text = ' '.join(expanded_words)\n",
    "print(\"Text with expanded contractions:\", expanded_text)"
   ]
  },
  {
   "cell_type": "code",
   "execution_count": null,
   "metadata": {},
   "outputs": [],
   "source": []
  }
 ],
 "metadata": {
  "kernelspec": {
   "display_name": "Python 3",
   "language": "python",
   "name": "python3"
  },
  "language_info": {
   "codemirror_mode": {
    "name": "ipython",
    "version": 3
   },
   "file_extension": ".py",
   "mimetype": "text/x-python",
   "name": "python",
   "nbconvert_exporter": "python",
   "pygments_lexer": "ipython3",
   "version": "3.11.2"
  }
 },
 "nbformat": 4,
 "nbformat_minor": 2
}
