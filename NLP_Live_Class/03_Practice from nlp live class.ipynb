{
 "cells": [
  {
   "cell_type": "markdown",
   "metadata": {},
   "source": [
    "# RNN"
   ]
  },
  {
   "cell_type": "code",
   "execution_count": 3,
   "metadata": {},
   "outputs": [],
   "source": [
    "import numpy as np\n",
    "from keras.preprocessing.text import Tokenizer\n",
    "import warnings\n",
    "warnings.filterwarnings(\"ignore\")\n",
    "\n",
    "# keras is a wrapper on top of tensorflow and tensorflow is widely used"
   ]
  },
  {
   "cell_type": "code",
   "execution_count": 4,
   "metadata": {},
   "outputs": [],
   "source": [
    "docs = ['recurrent neural network',\n",
    "        'neural network',\n",
    "        'artificial neural',\n",
    "        'connections between nodes',\n",
    "        'can create a cycle',\n",
    "        'allowing output',\n",
    "        'some nodes to affect subsequent',\n",
    "        'exhibit temporal',\n",
    "        'dynamic behaviour',\n",
    "        'type of neural network',\n",
    "        'affect subsequent']"
   ]
  },
  {
   "cell_type": "code",
   "execution_count": null,
   "metadata": {},
   "outputs": [],
   "source": [
    "# this tokenizer converts the sentences into words and then it is converting into a thing like values\n",
    "tokenizer = Tokenizer() "
   ]
  }
 ],
 "metadata": {
  "kernelspec": {
   "display_name": "Python 3",
   "language": "python",
   "name": "python3"
  },
  "language_info": {
   "codemirror_mode": {
    "name": "ipython",
    "version": 3
   },
   "file_extension": ".py",
   "mimetype": "text/x-python",
   "name": "python",
   "nbconvert_exporter": "python",
   "pygments_lexer": "ipython3",
   "version": "3.11.2"
  }
 },
 "nbformat": 4,
 "nbformat_minor": 2
}
