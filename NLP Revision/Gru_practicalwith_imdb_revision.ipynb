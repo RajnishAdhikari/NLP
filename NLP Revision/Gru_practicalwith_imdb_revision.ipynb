{
 "cells": [
  {
   "cell_type": "code",
   "execution_count": 12,
   "metadata": {},
   "outputs": [],
   "source": [
    "from tensorflow.keras.datasets import imdb\n",
    "from tensorflow.keras.preprocessing.text import Tokenizer\n",
    "from tensorflow.keras.utils import pad_sequences\n",
    "from tensorflow.keras import Sequential\n",
    "from tensorflow.keras.layers import Dense, Embedding, Flatten, GRU, Bidirectional\n"
   ]
  },
  {
   "cell_type": "code",
   "execution_count": 13,
   "metadata": {},
   "outputs": [],
   "source": [
    "from tensorflow.keras.datasets import imdb\n",
    "\n",
    "(X_train, y_train), (X_test, y_test) = imdb.load_data()"
   ]
  },
  {
   "cell_type": "code",
   "execution_count": 14,
   "metadata": {},
   "outputs": [],
   "source": [
    "X_train = pad_sequences(X_train, padding = \"post\", maxlen = 50)\n",
    "X_test = pad_sequences(X_test, padding = \"post\", maxlen = 50)"
   ]
  },
  {
   "cell_type": "code",
   "execution_count": 16,
   "metadata": {},
   "outputs": [
    {
     "data": {
      "text/plain": [
       "(25000, 50)"
      ]
     },
     "execution_count": 16,
     "metadata": {},
     "output_type": "execute_result"
    }
   ],
   "source": [
    "X_train.shape"
   ]
  },
  {
   "cell_type": "code",
   "execution_count": 19,
   "metadata": {},
   "outputs": [
    {
     "name": "stdout",
     "output_type": "stream",
     "text": [
      "Model: \"sequential_1\"\n",
      "_________________________________________________________________\n",
      " Layer (type)                Output Shape              Param #   \n",
      "=================================================================\n",
      " embedding_1 (Embedding)     (None, 50, 2)             200000    \n",
      "                                                                 \n",
      " gru_1 (GRU)                 (None, 32)                3456      \n",
      "                                                                 \n",
      " dense_1 (Dense)             (None, 1)                 33        \n",
      "                                                                 \n",
      "=================================================================\n",
      "Total params: 203489 (794.88 KB)\n",
      "Trainable params: 203489 (794.88 KB)\n",
      "Non-trainable params: 0 (0.00 Byte)\n",
      "_________________________________________________________________\n"
     ]
    }
   ],
   "source": [
    "model = Sequential()\n",
    "model.add(Embedding(100000, output_dim = 2, input_length = 50))\n",
    "model.add(GRU(32, return_sequences= False))\n",
    "model.add(Dense(1, activation = 'sigmoid'))\n",
    "\n",
    "model.summary()"
   ]
  },
  {
   "cell_type": "code",
   "execution_count": 20,
   "metadata": {},
   "outputs": [
    {
     "name": "stdout",
     "output_type": "stream",
     "text": [
      "Epoch 1/10\n",
      "782/782 [==============================] - 29s 31ms/step - loss: 0.5119 - acc: 0.7303 - val_loss: 0.4036 - val_acc: 0.8146\n",
      "Epoch 2/10\n",
      "782/782 [==============================] - 25s 32ms/step - loss: 0.3054 - acc: 0.8734 - val_loss: 0.4042 - val_acc: 0.8187\n",
      "Epoch 3/10\n",
      "782/782 [==============================] - 26s 33ms/step - loss: 0.2128 - acc: 0.9179 - val_loss: 0.4666 - val_acc: 0.8066\n",
      "Epoch 4/10\n",
      "782/782 [==============================] - 30s 38ms/step - loss: 0.1502 - acc: 0.9468 - val_loss: 0.5359 - val_acc: 0.7984\n",
      "Epoch 5/10\n",
      "782/782 [==============================] - 31s 39ms/step - loss: 0.1059 - acc: 0.9646 - val_loss: 0.6130 - val_acc: 0.7852\n",
      "Epoch 6/10\n",
      "782/782 [==============================] - 31s 40ms/step - loss: 0.0775 - acc: 0.9760 - val_loss: 0.7595 - val_acc: 0.7743\n",
      "Epoch 7/10\n",
      "782/782 [==============================] - 30s 39ms/step - loss: 0.0596 - acc: 0.9814 - val_loss: 0.8551 - val_acc: 0.7712\n",
      "Epoch 8/10\n",
      "782/782 [==============================] - 29s 38ms/step - loss: 0.0500 - acc: 0.9834 - val_loss: 0.8745 - val_acc: 0.7629\n",
      "Epoch 9/10\n",
      "782/782 [==============================] - 30s 39ms/step - loss: 0.0353 - acc: 0.9896 - val_loss: 1.0571 - val_acc: 0.7654\n",
      "Epoch 10/10\n",
      "782/782 [==============================] - 30s 39ms/step - loss: 0.0272 - acc: 0.9916 - val_loss: 1.2578 - val_acc: 0.7602\n"
     ]
    }
   ],
   "source": [
    "model.compile(optimizer='adam', loss='binary_crossentropy', metrics=['acc'])\n",
    "history = model.fit(X_train, y_train, epochs=10, validation_data=(X_test, y_test))"
   ]
  },
  {
   "cell_type": "markdown",
   "metadata": {},
   "source": [
    "# Predictions"
   ]
  },
  {
   "cell_type": "code",
   "execution_count": null,
   "metadata": {},
   "outputs": [],
   "source": [
    "test_data = X_test[0][0:50].reshape(1,-1)"
   ]
  },
  {
   "cell_type": "code",
   "execution_count": null,
   "metadata": {},
   "outputs": [],
   "source": [
    "model.predict(test_data)"
   ]
  },
  {
   "cell_type": "code",
   "execution_count": null,
   "metadata": {},
   "outputs": [],
   "source": []
  },
  {
   "cell_type": "code",
   "execution_count": null,
   "metadata": {},
   "outputs": [],
   "source": []
  },
  {
   "cell_type": "code",
   "execution_count": null,
   "metadata": {},
   "outputs": [],
   "source": []
  }
 ],
 "metadata": {
  "kernelspec": {
   "display_name": "Python 3",
   "language": "python",
   "name": "python3"
  },
  "language_info": {
   "codemirror_mode": {
    "name": "ipython",
    "version": 3
   },
   "file_extension": ".py",
   "mimetype": "text/x-python",
   "name": "python",
   "nbconvert_exporter": "python",
   "pygments_lexer": "ipython3",
   "version": "3.11.2"
  }
 },
 "nbformat": 4,
 "nbformat_minor": 2
}
