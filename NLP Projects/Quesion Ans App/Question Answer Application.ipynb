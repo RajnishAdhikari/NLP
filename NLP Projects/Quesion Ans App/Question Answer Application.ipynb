{
 "cells": [
  {
   "cell_type": "markdown",
   "metadata": {},
   "source": [
    "# Question Answer Application\n",
    "\n",
    "The goal of Question Answering is to find the answer to a question given and an accompanying context. The predicred answer will be either a spam of text from the context of an empty string(indicating the question cannot be answered from the context)."
   ]
  },
  {
   "cell_type": "markdown",
   "metadata": {},
   "source": [
    "# Library used in this application \n",
    "\n",
    "https://github.com/ThilinaRajapakse/simpletransformers\n",
    "\n",
    "\n",
    "https://simpletransformers.ai/docs/qa-specifics/\n"
   ]
  },
  {
   "cell_type": "code",
   "execution_count": null,
   "metadata": {},
   "outputs": [],
   "source": []
  }
 ],
 "metadata": {
  "language_info": {
   "name": "python"
  }
 },
 "nbformat": 4,
 "nbformat_minor": 2
}
