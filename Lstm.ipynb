{
 "cells": [
  {
   "cell_type": "markdown",
   "metadata": {},
   "source": [
    "## LSTM Implementation"
   ]
  },
  {
   "cell_type": "code",
   "execution_count": 1,
   "metadata": {},
   "outputs": [],
   "source": [
    "import torch\n",
    "import torch.nn as nn"
   ]
  },
  {
   "cell_type": "code",
   "execution_count": 2,
   "metadata": {},
   "outputs": [],
   "source": [
    "# Introduction to Long Short Term Memory (LSTM)\n",
    "class SentimentAnalysisLSTM(nn.Module):\n",
    "    def __init__(self, vocab_size, embedding_dim, hidden_size, num_layers):\n",
    "        super(SentimentAnalysisLSTM, self).__init__()\n",
    "        self.embedding = nn.Embedding(vocab_size, embedding_dim)\n",
    "        self.lstm = nn.LSTM(embedding_dim, hidden_size, num_layers, batch_first=True)\n",
    "        self.fc = nn.Linear(hidden_size, 2)  # Binary classification\n",
    "\n",
    "    def forward(self, x):\n",
    "        embed = self.embedding(x)\n",
    "        output, _ = self.lstm(embed)\n",
    "        output = self.fc(output[:, -1, :])  # Use last time step's output for classification\n",
    "        return output"
   ]
  },
  {
   "cell_type": "code",
   "execution_count": 3,
   "metadata": {},
   "outputs": [],
   "source": [
    "# Instantiate models and provide data for training where needed\n",
    "# Sentiment Analysis using LSTM\n",
    "vocab_size = 10000\n",
    "embedding_dim = 100\n",
    "hidden_size = 128\n",
    "num_layers = 2\n",
    "sentiment_model = SentimentAnalysisLSTM(vocab_size, embedding_dim, hidden_size, num_layers)"
   ]
  },
  {
   "cell_type": "code",
   "execution_count": 4,
   "metadata": {},
   "outputs": [],
   "source": [
    "# Define training data for sentiment analysis\n",
    "train_data = torch.randint(0, vocab_size, (128, 50))  # Example data with batch size 128 and sequence length 50\n",
    "train_labels = torch.randint(0, 2, (128,))  # Example binary sentiment labels"
   ]
  },
  {
   "cell_type": "code",
   "execution_count": 5,
   "metadata": {},
   "outputs": [],
   "source": [
    "# Loss and optimizer\n",
    "criterion = nn.CrossEntropyLoss()\n",
    "optimizer = torch.optim.Adam(sentiment_model.parameters(), lr=0.001)"
   ]
  },
  {
   "cell_type": "code",
   "execution_count": 6,
   "metadata": {},
   "outputs": [
    {
     "name": "stdout",
     "output_type": "stream",
     "text": [
      "Sentiment Analysis Epoch [1/10], Loss: 0.6884\n",
      "Sentiment Analysis Epoch [2/10], Loss: 0.6810\n",
      "Sentiment Analysis Epoch [3/10], Loss: 0.6735\n",
      "Sentiment Analysis Epoch [4/10], Loss: 0.6654\n",
      "Sentiment Analysis Epoch [5/10], Loss: 0.6560\n",
      "Sentiment Analysis Epoch [6/10], Loss: 0.6447\n",
      "Sentiment Analysis Epoch [7/10], Loss: 0.6310\n",
      "Sentiment Analysis Epoch [8/10], Loss: 0.6139\n",
      "Sentiment Analysis Epoch [9/10], Loss: 0.5925\n",
      "Sentiment Analysis Epoch [10/10], Loss: 0.5655\n"
     ]
    }
   ],
   "source": [
    "# Training loop\n",
    "num_epochs = 10\n",
    "for epoch in range(num_epochs):\n",
    "    optimizer.zero_grad()\n",
    "    output = sentiment_model(train_data)\n",
    "    loss = criterion(output, train_labels)\n",
    "    loss.backward()\n",
    "    optimizer.step()\n",
    "    print(f\"Sentiment Analysis Epoch [{epoch+1}/{num_epochs}], Loss: {loss.item():.4f}\")"
   ]
  },
  {
   "cell_type": "code",
   "execution_count": 7,
   "metadata": {},
   "outputs": [],
   "source": [
    "# Named Entity Recognition with LSTM\n",
    "class NERLSTM(nn.Module):\n",
    "    def __init__(self, vocab_size, embedding_dim, hidden_size, num_layers, num_classes):\n",
    "        super(NERLSTM, self).__init__()\n",
    "        self.embedding = nn.Embedding(vocab_size, embedding_dim)\n",
    "        self.lstm = nn.LSTM(embedding_dim, hidden_size, num_layers, batch_first=True)\n",
    "        self.fc = nn.Linear(hidden_size, num_classes)\n",
    "\n",
    "    def forward(self, x):\n",
    "        embed = self.embedding(x)\n",
    "        output, _ = self.lstm(embed)\n",
    "        output = self.fc(output)\n",
    "        return output"
   ]
  },
  {
   "cell_type": "code",
   "execution_count": 8,
   "metadata": {},
   "outputs": [],
   "source": [
    "# Instantiate NER model and provide data for training\n",
    "num_classes = 10  # Replace with the number of classes for NER\n",
    "ner_model = NERLSTM(vocab_size, embedding_dim, hidden_size, num_layers, num_classes)"
   ]
  },
  {
   "cell_type": "code",
   "execution_count": null,
   "metadata": {},
   "outputs": [],
   "source": [
    "# Define training data for NER\n",
    "train_data_ner = torch.randint(0, vocab_size, (128, 30))  # Example data with batch size 128 and sequence length 30\n",
    "train_labels_ner = torch.randint(0, num_classes, (128, 30))  # Example NER labels\n"
   ]
  }
 ],
 "metadata": {
  "kernelspec": {
   "display_name": "Python 3",
   "language": "python",
   "name": "python3"
  },
  "language_info": {
   "codemirror_mode": {
    "name": "ipython",
    "version": 3
   },
   "file_extension": ".py",
   "mimetype": "text/x-python",
   "name": "python",
   "nbconvert_exporter": "python",
   "pygments_lexer": "ipython3",
   "version": "3.11.2"
  }
 },
 "nbformat": 4,
 "nbformat_minor": 2
}
