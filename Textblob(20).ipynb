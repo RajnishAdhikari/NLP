{
 "cells": [
  {
   "cell_type": "code",
   "execution_count": 5,
   "metadata": {},
   "outputs": [],
   "source": [
    "# Importing the required library\n",
    "\n",
    "import nltk\n",
    "from textblob import TextBlob"
   ]
  },
  {
   "cell_type": "code",
   "execution_count": 3,
   "metadata": {},
   "outputs": [
    {
     "name": "stderr",
     "output_type": "stream",
     "text": [
      "[nltk_data] Downloading package brown to\n",
      "[nltk_data]     C:\\Users\\PC\\AppData\\Roaming\\nltk_data...\n",
      "[nltk_data]   Package brown is already up-to-date!\n"
     ]
    },
    {
     "data": {
      "text/plain": [
       "True"
      ]
     },
     "execution_count": 3,
     "metadata": {},
     "output_type": "execute_result"
    }
   ],
   "source": [
    "nltk.download('brown')"
   ]
  },
  {
   "cell_type": "markdown",
   "metadata": {},
   "source": [
    "# Sample text for demonstration"
   ]
  },
  {
   "cell_type": "code",
   "execution_count": 10,
   "metadata": {},
   "outputs": [
    {
     "data": {
      "text/plain": [
       "'TextBlob is a versatile NLP library for Python. It simplifies many text processing tasks. Text processing is not so good'"
      ]
     },
     "execution_count": 10,
     "metadata": {},
     "output_type": "execute_result"
    }
   ],
   "source": [
    "text = \"TextBlob is a versatile NLP library for Python. It simplifies many text processing tasks. Text processing is not so good\"\n",
    "text"
   ]
  },
  {
   "cell_type": "markdown",
   "metadata": {},
   "source": [
    "# Introduction to TextBlob"
   ]
  },
  {
   "cell_type": "code",
   "execution_count": 11,
   "metadata": {},
   "outputs": [
    {
     "name": "stdout",
     "output_type": "stream",
     "text": [
      "Introduction to TextBlob: TextBlob is a versatile NLP library for Python. It simplifies many text processing tasks. Text processing is not so good\n"
     ]
    }
   ],
   "source": [
    "# Passing the text\n",
    "intro_blob = TextBlob(text)\n",
    "print(\"Introduction to TextBlob:\", intro_blob)"
   ]
  },
  {
   "cell_type": "markdown",
   "metadata": {},
   "source": [
    "# Sentiment Analysis and Polarity Detection"
   ]
  },
  {
   "cell_type": "code",
   "execution_count": 13,
   "metadata": {},
   "outputs": [
    {
     "name": "stdout",
     "output_type": "stream",
     "text": [
      "Sentiment Analysis: positive (Polarity: 0.625 )\n"
     ]
    }
   ],
   "source": [
    "sentiment_blob = TextBlob(\"I love this product!\")\n",
    "polarity = sentiment_blob.sentiment.polarity\n",
    "sentiment = \"positive\" if polarity > 0 else \"negative\" if polarity < 0 else \"neutral\"\n",
    "print(\"Sentiment Analysis:\", sentiment, \"(Polarity:\", polarity, \")\")"
   ]
  },
  {
   "cell_type": "markdown",
   "metadata": {},
   "source": [
    "# Part-of-Speech Tagging and Noun Phrase Extraction"
   ]
  },
  {
   "cell_type": "code",
   "execution_count": 14,
   "metadata": {},
   "outputs": [
    {
     "name": "stdout",
     "output_type": "stream",
     "text": [
      "Part-of-Speech Tags: [('The', 'DT'), ('black', 'JJ'), ('cat', 'NN'), ('is', 'VBZ'), ('sleeping', 'VBG'), ('on', 'IN'), ('the', 'DT'), ('soft', 'JJ'), ('mat', 'NN')]\n",
      "Noun Phrases: ['black cat', 'soft mat']\n"
     ]
    }
   ],
   "source": [
    "pos_blob = TextBlob(\"The black cat is sleeping on the soft mat.\")\n",
    "pos_tags = pos_blob.tags\n",
    "noun_phrases = pos_blob.noun_phrases\n",
    "print(\"Part-of-Speech Tags:\", pos_tags)\n",
    "print(\"Noun Phrases:\", noun_phrases)"
   ]
  },
  {
   "cell_type": "markdown",
   "metadata": {},
   "source": [
    "# Language Translation and Language Detection"
   ]
  },
  {
   "cell_type": "code",
   "execution_count": 15,
   "metadata": {},
   "outputs": [
    {
     "name": "stdout",
     "output_type": "stream",
     "text": [
      "Collecting googletrans==4.0.0-rc1\n",
      "  Downloading googletrans-4.0.0rc1.tar.gz (20 kB)\n",
      "  Preparing metadata (setup.py): started\n",
      "  Preparing metadata (setup.py): finished with status 'done'\n",
      "Collecting httpx==0.13.3 (from googletrans==4.0.0-rc1)\n",
      "  Downloading httpx-0.13.3-py3-none-any.whl (55 kB)\n",
      "     ---------------------------------------- 0.0/55.1 kB ? eta -:--:--\n",
      "     ------- -------------------------------- 10.2/55.1 kB ? eta -:--:--\n",
      "     ------- -------------------------------- 10.2/55.1 kB ? eta -:--:--\n",
      "     ------- -------------------------------- 10.2/55.1 kB ? eta -:--:--\n",
      "     ------- -------------------------------- 10.2/55.1 kB ? eta -:--:--\n",
      "     -------------------------------------- 55.1/55.1 kB 239.9 kB/s eta 0:00:00\n",
      "Requirement already satisfied: certifi in c:\\users\\pc\\appdata\\local\\programs\\python\\python311\\lib\\site-packages (from httpx==0.13.3->googletrans==4.0.0-rc1) (2022.12.7)\n",
      "Collecting hstspreload (from httpx==0.13.3->googletrans==4.0.0-rc1)\n",
      "  Downloading hstspreload-2024.2.1-py3-none-any.whl.metadata (2.1 kB)\n",
      "Requirement already satisfied: sniffio in c:\\users\\pc\\appdata\\local\\programs\\python\\python311\\lib\\site-packages (from httpx==0.13.3->googletrans==4.0.0-rc1) (1.3.0)\n",
      "Collecting chardet==3.* (from httpx==0.13.3->googletrans==4.0.0-rc1)\n",
      "  Downloading chardet-3.0.4-py2.py3-none-any.whl (133 kB)\n",
      "     ---------------------------------------- 0.0/133.4 kB ? eta -:--:--\n",
      "     --- ------------------------------------ 10.2/133.4 kB ? eta -:--:--\n",
      "     --- ------------------------------------ 10.2/133.4 kB ? eta -:--:--\n",
      "     -------- ---------------------------- 30.7/133.4 kB 330.3 kB/s eta 0:00:01\n",
      "     ----------- ------------------------- 41.0/133.4 kB 219.4 kB/s eta 0:00:01\n",
      "     ----------------- ------------------- 61.4/133.4 kB 273.8 kB/s eta 0:00:01\n",
      "     ------------------- ----------------- 71.7/133.4 kB 262.6 kB/s eta 0:00:01\n",
      "     ------------------- ----------------- 71.7/133.4 kB 262.6 kB/s eta 0:00:01\n",
      "     ------------------------- ----------- 92.2/133.4 kB 275.8 kB/s eta 0:00:01\n",
      "     ------------------------------ ----- 112.6/133.4 kB 298.5 kB/s eta 0:00:01\n",
      "     ------------------------------------ 133.4/133.4 kB 303.2 kB/s eta 0:00:00\n",
      "Collecting idna==2.* (from httpx==0.13.3->googletrans==4.0.0-rc1)\n",
      "  Downloading idna-2.10-py2.py3-none-any.whl (58 kB)\n",
      "     ---------------------------------------- 0.0/58.8 kB ? eta -:--:--\n",
      "     ------ --------------------------------- 10.2/58.8 kB ? eta -:--:--\n",
      "     ------------------- ------------------ 30.7/58.8 kB 445.2 kB/s eta 0:00:01\n",
      "     -------------------------- ----------- 41.0/58.8 kB 330.3 kB/s eta 0:00:01\n",
      "     -------------------------------------- 58.8/58.8 kB 311.4 kB/s eta 0:00:00\n",
      "Requirement already satisfied: rfc3986<2,>=1.3 in c:\\users\\pc\\appdata\\local\\programs\\python\\python311\\lib\\site-packages (from httpx==0.13.3->googletrans==4.0.0-rc1) (1.5.0)\n",
      "Collecting httpcore==0.9.* (from httpx==0.13.3->googletrans==4.0.0-rc1)\n",
      "  Downloading httpcore-0.9.1-py3-none-any.whl (42 kB)\n",
      "     ---------------------------------------- 0.0/42.6 kB ? eta -:--:--\n",
      "     --------- ------------------------------ 10.2/42.6 kB ? eta -:--:--\n",
      "     --------------------------- ---------- 30.7/42.6 kB 435.7 kB/s eta 0:00:01\n",
      "     -------------------------------------- 42.6/42.6 kB 415.4 kB/s eta 0:00:00\n",
      "Collecting h11<0.10,>=0.8 (from httpcore==0.9.*->httpx==0.13.3->googletrans==4.0.0-rc1)\n",
      "  Downloading h11-0.9.0-py2.py3-none-any.whl (53 kB)\n",
      "     ---------------------------------------- 0.0/53.6 kB ? eta -:--:--\n",
      "     ------- -------------------------------- 10.2/53.6 kB ? eta -:--:--\n",
      "     --------------------- ---------------- 30.7/53.6 kB 435.7 kB/s eta 0:00:01\n",
      "     -------------------------------------- 53.6/53.6 kB 397.9 kB/s eta 0:00:00\n",
      "Collecting h2==3.* (from httpcore==0.9.*->httpx==0.13.3->googletrans==4.0.0-rc1)\n",
      "  Downloading h2-3.2.0-py2.py3-none-any.whl (65 kB)\n",
      "     ---------------------------------------- 0.0/65.0 kB ? eta -:--:--\n",
      "     ------ --------------------------------- 10.2/65.0 kB ? eta -:--:--\n",
      "     ----------------- -------------------- 30.7/65.0 kB 435.7 kB/s eta 0:00:01\n",
      "     ----------------------- -------------- 41.0/65.0 kB 393.8 kB/s eta 0:00:01\n",
      "     ----------------------------------- -- 61.4/65.0 kB 328.2 kB/s eta 0:00:01\n",
      "     -------------------------------------- 65.0/65.0 kB 351.3 kB/s eta 0:00:00\n",
      "Collecting hyperframe<6,>=5.2.0 (from h2==3.*->httpcore==0.9.*->httpx==0.13.3->googletrans==4.0.0-rc1)\n",
      "  Downloading hyperframe-5.2.0-py2.py3-none-any.whl (12 kB)\n",
      "Collecting hpack<4,>=3.0 (from h2==3.*->httpcore==0.9.*->httpx==0.13.3->googletrans==4.0.0-rc1)\n",
      "  Downloading hpack-3.0.0-py2.py3-none-any.whl (38 kB)\n",
      "Downloading hstspreload-2024.2.1-py3-none-any.whl (1.1 MB)\n",
      "   ---------------------------------------- 0.0/1.1 MB ? eta -:--:--\n",
      "   ---------------------------------------- 0.0/1.1 MB ? eta -:--:--\n",
      "   - -------------------------------------- 0.0/1.1 MB 660.6 kB/s eta 0:00:02\n",
      "   - -------------------------------------- 0.0/1.1 MB 393.8 kB/s eta 0:00:03\n",
      "   -- ------------------------------------- 0.1/1.1 MB 363.1 kB/s eta 0:00:03\n",
      "   -- ------------------------------------- 0.1/1.1 MB 326.8 kB/s eta 0:00:04\n",
      "   --- ------------------------------------ 0.1/1.1 MB 374.1 kB/s eta 0:00:03\n",
      "   ---- ----------------------------------- 0.1/1.1 MB 409.6 kB/s eta 0:00:03\n",
      "   ---- ----------------------------------- 0.1/1.1 MB 359.9 kB/s eta 0:00:03\n",
      "   ----- ---------------------------------- 0.1/1.1 MB 369.8 kB/s eta 0:00:03\n",
      "   ----- ---------------------------------- 0.2/1.1 MB 366.6 kB/s eta 0:00:03\n",
      "   ----- ---------------------------------- 0.2/1.1 MB 366.6 kB/s eta 0:00:03\n",
      "   ----- ---------------------------------- 0.2/1.1 MB 366.6 kB/s eta 0:00:03\n",
      "   ----- ---------------------------------- 0.2/1.1 MB 366.6 kB/s eta 0:00:03\n",
      "   -------- ------------------------------- 0.2/1.1 MB 369.3 kB/s eta 0:00:03\n",
      "   -------- ------------------------------- 0.2/1.1 MB 369.3 kB/s eta 0:00:03\n",
      "   --------- ------------------------------ 0.3/1.1 MB 357.2 kB/s eta 0:00:03\n",
      "   --------- ------------------------------ 0.3/1.1 MB 362.2 kB/s eta 0:00:03\n",
      "   --------- ------------------------------ 0.3/1.1 MB 362.2 kB/s eta 0:00:03\n",
      "   ---------- ----------------------------- 0.3/1.1 MB 333.9 kB/s eta 0:00:03\n",
      "   ----------- ---------------------------- 0.3/1.1 MB 339.4 kB/s eta 0:00:03\n",
      "   ----------- ---------------------------- 0.3/1.1 MB 333.2 kB/s eta 0:00:03\n",
      "   ----------- ---------------------------- 0.3/1.1 MB 333.2 kB/s eta 0:00:03\n",
      "   ------------ --------------------------- 0.3/1.1 MB 327.7 kB/s eta 0:00:03\n",
      "   ------------ --------------------------- 0.4/1.1 MB 332.5 kB/s eta 0:00:03\n",
      "   ------------- -------------------------- 0.4/1.1 MB 327.6 kB/s eta 0:00:03\n",
      "   -------------- ------------------------- 0.4/1.1 MB 323.3 kB/s eta 0:00:03\n",
      "   -------------- ------------------------- 0.4/1.1 MB 323.5 kB/s eta 0:00:03\n",
      "   -------------- ------------------------- 0.4/1.1 MB 319.5 kB/s eta 0:00:03\n",
      "   --------------- ------------------------ 0.4/1.1 MB 327.7 kB/s eta 0:00:03\n",
      "   --------------- ------------------------ 0.4/1.1 MB 327.7 kB/s eta 0:00:03\n",
      "   ---------------- ----------------------- 0.5/1.1 MB 320.5 kB/s eta 0:00:03\n",
      "   ----------------- ---------------------- 0.5/1.1 MB 324.2 kB/s eta 0:00:02\n",
      "   ----------------- ---------------------- 0.5/1.1 MB 324.2 kB/s eta 0:00:02\n",
      "   ----------------- ---------------------- 0.5/1.1 MB 317.5 kB/s eta 0:00:02\n",
      "   ------------------ --------------------- 0.5/1.1 MB 321.0 kB/s eta 0:00:02\n",
      "   ------------------- -------------------- 0.5/1.1 MB 324.4 kB/s eta 0:00:02\n",
      "   ------------------- -------------------- 0.5/1.1 MB 318.5 kB/s eta 0:00:02\n",
      "   -------------------- ------------------- 0.6/1.1 MB 318.7 kB/s eta 0:00:02\n",
      "   -------------------- ------------------- 0.6/1.1 MB 318.9 kB/s eta 0:00:02\n",
      "   -------------------- ------------------- 0.6/1.1 MB 318.9 kB/s eta 0:00:02\n",
      "   --------------------- ------------------ 0.6/1.1 MB 316.5 kB/s eta 0:00:02\n",
      "   ---------------------- ----------------- 0.6/1.1 MB 322.2 kB/s eta 0:00:02\n",
      "   ---------------------- ----------------- 0.6/1.1 MB 319.7 kB/s eta 0:00:02\n",
      "   ----------------------- ---------------- 0.6/1.1 MB 322.4 kB/s eta 0:00:02\n",
      "   ----------------------- ---------------- 0.7/1.1 MB 317.6 kB/s eta 0:00:02\n",
      "   ------------------------ --------------- 0.7/1.1 MB 320.3 kB/s eta 0:00:02\n",
      "   ------------------------- -------------- 0.7/1.1 MB 325.2 kB/s eta 0:00:02\n",
      "   ------------------------- -------------- 0.7/1.1 MB 318.2 kB/s eta 0:00:02\n",
      "   -------------------------- ------------- 0.7/1.1 MB 320.7 kB/s eta 0:00:02\n",
      "   -------------------------- ------------- 0.7/1.1 MB 318.7 kB/s eta 0:00:02\n",
      "   --------------------------- ------------ 0.8/1.1 MB 323.2 kB/s eta 0:00:02\n",
      "   ---------------------------- ----------- 0.8/1.1 MB 323.4 kB/s eta 0:00:02\n",
      "   ---------------------------- ----------- 0.8/1.1 MB 321.3 kB/s eta 0:00:01\n",
      "   ----------------------------- ---------- 0.8/1.1 MB 323.5 kB/s eta 0:00:01\n",
      "   ----------------------------- ---------- 0.8/1.1 MB 323.5 kB/s eta 0:00:01\n",
      "   ----------------------------- ---------- 0.8/1.1 MB 317.6 kB/s eta 0:00:01\n",
      "   ------------------------------ --------- 0.8/1.1 MB 321.7 kB/s eta 0:00:01\n",
      "   ------------------------------- -------- 0.9/1.1 MB 323.8 kB/s eta 0:00:01\n",
      "   ------------------------------- -------- 0.9/1.1 MB 320.0 kB/s eta 0:00:01\n",
      "   -------------------------------- ------- 0.9/1.1 MB 322.0 kB/s eta 0:00:01\n",
      "   -------------------------------- ------- 0.9/1.1 MB 320.3 kB/s eta 0:00:01\n",
      "   --------------------------------- ------ 0.9/1.1 MB 324.0 kB/s eta 0:00:01\n",
      "   ---------------------------------- ----- 0.9/1.1 MB 322.3 kB/s eta 0:00:01\n",
      "   ---------------------------------- ----- 1.0/1.1 MB 320.7 kB/s eta 0:00:01\n",
      "   ----------------------------------- ---- 1.0/1.1 MB 324.2 kB/s eta 0:00:01\n",
      "   ----------------------------------- ---- 1.0/1.1 MB 324.3 kB/s eta 0:00:01\n",
      "   ----------------------------------- ---- 1.0/1.1 MB 319.4 kB/s eta 0:00:01\n",
      "   ------------------------------------ --- 1.0/1.1 MB 322.7 kB/s eta 0:00:01\n",
      "   ------------------------------------- -- 1.0/1.1 MB 324.5 kB/s eta 0:00:01\n",
      "   ------------------------------------- -- 1.0/1.1 MB 322.9 kB/s eta 0:00:01\n",
      "   -------------------------------------- - 1.1/1.1 MB 322.9 kB/s eta 0:00:01\n",
      "   -------------------------------------- - 1.1/1.1 MB 321.4 kB/s eta 0:00:01\n",
      "   ---------------------------------------  1.1/1.1 MB 324.6 kB/s eta 0:00:01\n",
      "   ---------------------------------------- 1.1/1.1 MB 322.0 kB/s eta 0:00:00\n",
      "Building wheels for collected packages: googletrans\n",
      "  Building wheel for googletrans (setup.py): started\n",
      "  Building wheel for googletrans (setup.py): finished with status 'done'\n",
      "  Created wheel for googletrans: filename=googletrans-4.0.0rc1-py3-none-any.whl size=17458 sha256=e3e80fa8427bbdea3add1c35a459f2315406363ab6b952396b574349c53d45e9\n",
      "  Stored in directory: c:\\users\\pc\\appdata\\local\\pip\\cache\\wheels\\39\\17\\6f\\66a045ea3d168826074691b4b787b8f324d3f646d755443fda\n",
      "Successfully built googletrans\n",
      "Installing collected packages: hyperframe, hpack, h11, chardet, idna, hstspreload, h2, httpcore, httpx, googletrans\n",
      "  Attempting uninstall: h11\n",
      "    Found existing installation: h11 0.14.0\n",
      "    Uninstalling h11-0.14.0:\n",
      "      Successfully uninstalled h11-0.14.0\n",
      "  Attempting uninstall: idna\n",
      "    Found existing installation: idna 3.4\n",
      "    Uninstalling idna-3.4:\n",
      "      Successfully uninstalled idna-3.4\n",
      "  Attempting uninstall: httpcore\n",
      "    Found existing installation: httpcore 0.16.3\n",
      "    Uninstalling httpcore-0.16.3:\n",
      "      Successfully uninstalled httpcore-0.16.3\n",
      "  Attempting uninstall: httpx\n",
      "    Found existing installation: httpx 0.23.3\n",
      "    Uninstalling httpx-0.23.3:\n",
      "      Successfully uninstalled httpx-0.23.3\n",
      "Successfully installed chardet-3.0.4 googletrans-4.0.0rc1 h11-0.9.0 h2-3.2.0 hpack-3.0.0 hstspreload-2024.2.1 httpcore-0.9.1 httpx-0.13.3 hyperframe-5.2.0 idna-2.10\n"
     ]
    },
    {
     "name": "stderr",
     "output_type": "stream",
     "text": [
      "DEPRECATION: Loading egg at c:\\users\\pc\\appdata\\local\\programs\\python\\python311\\lib\\site-packages\\diamondpriceprediction-0.0.1-py3.11.egg is deprecated. pip 24.3 will enforce this behaviour change. A possible replacement is to use pip for package installation.. Discussion can be found at https://github.com/pypa/pip/issues/12330\n",
      "ERROR: pip's dependency resolver does not currently take into account all the packages that are installed. This behaviour is the source of the following dependency conflicts.\n",
      "apache-airflow 2.5.3 requires sqlalchemy<2.0,>=1.4, but you have sqlalchemy 2.0.9 which is incompatible.\n",
      "flask-appbuilder 4.1.4 requires SQLAlchemy<1.5, but you have sqlalchemy 2.0.9 which is incompatible.\n",
      "\n",
      "[notice] A new release of pip is available: 23.3.2 -> 24.0\n",
      "[notice] To update, run: python.exe -m pip install --upgrade pip\n"
     ]
    }
   ],
   "source": [
    "# !pip install googletrans==4.0.0-rc1"
   ]
  },
  {
   "cell_type": "code",
   "execution_count": 16,
   "metadata": {},
   "outputs": [
    {
     "name": "stdout",
     "output_type": "stream",
     "text": [
      "Original Text: Hola, ¿cómo estás?\n",
      "Detected Language: es\n",
      "Translated Text: Hello how are you?\n"
     ]
    }
   ],
   "source": [
    "from googletrans import Translator\n",
    "\n",
    "# Initialize the Translator\n",
    "translator = Translator()\n",
    "\n",
    "# Text to be translated\n",
    "original_text = \"Hola, ¿cómo estás?\"\n",
    "\n",
    "# Detect the language of the original text\n",
    "detected_language = translator.detect(original_text).lang\n",
    "\n",
    "# Translate the text to English\n",
    "translated_text = translator.translate(original_text, src=detected_language, dest='en').text\n",
    "\n",
    "print(\"Original Text:\", original_text)\n",
    "print(\"Detected Language:\", detected_language)\n",
    "print(\"Translated Text:\", translated_text)"
   ]
  },
  {
   "cell_type": "markdown",
   "metadata": {},
   "source": [
    "# Extending TextBlob's Functionality through Extensions"
   ]
  },
  {
   "cell_type": "code",
   "execution_count": 17,
   "metadata": {},
   "outputs": [
    {
     "name": "stdout",
     "output_type": "stream",
     "text": [
      "This is a custom function for TextBlob!\n"
     ]
    }
   ],
   "source": [
    "# Subclass TextBlob to add custom methods\n",
    "class ExtendedTextBlob(TextBlob):\n",
    "    def my_custom_function(self):\n",
    "        return \"This is a custom function for TextBlob!\"\n",
    "\n",
    "# Create an instance of the extended TextBlob\n",
    "extended_blob = ExtendedTextBlob(\"This is some text.\")\n",
    "\n",
    "# Call the custom function\n",
    "result = extended_blob.my_custom_function()\n",
    "print(result)"
   ]
  },
  {
   "cell_type": "code",
   "execution_count": null,
   "metadata": {},
   "outputs": [],
   "source": []
  }
 ],
 "metadata": {
  "kernelspec": {
   "display_name": "Python 3",
   "language": "python",
   "name": "python3"
  },
  "language_info": {
   "codemirror_mode": {
    "name": "ipython",
    "version": 3
   },
   "file_extension": ".py",
   "mimetype": "text/x-python",
   "name": "python",
   "nbconvert_exporter": "python",
   "pygments_lexer": "ipython3",
   "version": "3.11.2"
  }
 },
 "nbformat": 4,
 "nbformat_minor": 4
}
