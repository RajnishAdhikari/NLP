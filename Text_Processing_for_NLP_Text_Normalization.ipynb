{
 "cells": [
  {
   "cell_type": "code",
   "execution_count": 1,
   "metadata": {},
   "outputs": [],
   "source": [
    "import re"
   ]
  },
  {
   "cell_type": "code",
   "execution_count": 2,
   "metadata": {},
   "outputs": [],
   "source": [
    "text = \"Hi this is rajnish adhikari and I am data scientist and also i am interested in Gen AI too\""
   ]
  },
  {
   "cell_type": "code",
   "execution_count": 3,
   "metadata": {},
   "outputs": [
    {
     "name": "stdout",
     "output_type": "stream",
     "text": [
      "Convert to lowercase\n",
      "Lowercase text: hi this is rajnish adhikari and i am data scientist and also i am interested in gen ai too\n",
      "\n"
     ]
    }
   ],
   "source": [
    "print(\"Convert to lowercase\")\n",
    "lowercase_text = text.lower()\n",
    "print(\"Lowercase text:\", lowercase_text)\n",
    "print()"
   ]
  },
  {
   "cell_type": "code",
   "execution_count": 5,
   "metadata": {},
   "outputs": [
    {
     "name": "stdout",
     "output_type": "stream",
     "text": [
      "Remove punctuation\n",
      "Text without punctuation: hi this is rajnish adhikari and i am data scientist and also i am interested in gen ai too\n",
      "\n"
     ]
    }
   ],
   "source": [
    "print(\"Remove punctuation\")\n",
    "cleaned_text = re.sub(r'[^\\w\\s]', '', lowercase_text)\n",
    "print(\"Text without punctuation:\", cleaned_text)\n",
    "print()"
   ]
  },
  {
   "cell_type": "code",
   "execution_count": null,
   "metadata": {},
   "outputs": [],
   "source": []
  }
 ],
 "metadata": {
  "kernelspec": {
   "display_name": "Python 3",
   "language": "python",
   "name": "python3"
  },
  "language_info": {
   "codemirror_mode": {
    "name": "ipython",
    "version": 3
   },
   "file_extension": ".py",
   "mimetype": "text/x-python",
   "name": "python",
   "nbconvert_exporter": "python",
   "pygments_lexer": "ipython3",
   "version": "3.11.2"
  }
 },
 "nbformat": 4,
 "nbformat_minor": 2
}
